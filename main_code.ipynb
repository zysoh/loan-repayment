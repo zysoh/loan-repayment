{
 "cells": [
  {
   "attachments": {},
   "cell_type": "markdown",
   "metadata": {},
   "source": [
    "### Loan Repayment Prediction\n",
    "\n",
    "The prediction of a borrower's probability of loan repayment is essential for the lender to manage their risk profile. This is why an underwriting process is used between the loan application and loan funding stage, which involves screening applicants based on their background. The typical flow for the lifecycle of a loan is:\n",
    "\n",
    "Borrower Applies for Loan --> Underwriting Process --> Loan Approval --> Loan is Funded --> Loan is Paid Off/Defaulted\n",
    "\n",
    "The advent of machine learning and Big Data has allowed companies to gather more information about the borrower, including their background and behaviour. This information can be  leveraged to predict their likelihood of repayment. Hence, this project aims to assess the risk of delinquency for a given loan application AFTER the underwriting process and before the loan approval. \n",
    "\n",
    "This notebook is broken down into the following sections:\n",
    "\n",
    "1. EDA\n",
    "2. Feature Engineering\n",
    "3. Model Training\n",
    "4. Conclusion\n",
    "\n"
   ]
  },
  {
   "cell_type": "code",
   "execution_count": 318,
   "metadata": {},
   "outputs": [],
   "source": [
    "## Import libraries\n",
    "\n",
    "import pandas as pd\n",
    "import numpy as np\n",
    "import seaborn as sns\n",
    "import matplotlib.pyplot as plt\n",
    "from sklearn.preprocessing import LabelEncoder\n",
    "from sklearn.model_selection import train_test_split\n",
    "from sklearn.ensemble import RandomForestClassifier, GradientBoostingClassifier"
   ]
  },
  {
   "cell_type": "code",
   "execution_count": 319,
   "metadata": {},
   "outputs": [
    {
     "name": "stderr",
     "output_type": "stream",
     "text": [
      "C:\\Users\\Zysoh\\AppData\\Local\\Temp\\ipykernel_26252\\3730202882.py:5: DtypeWarning: Columns (9,11,12,13,14,15,16,17,18,19,20,21,22,23,25,26,27,28,29,31,32,33,36,37) have mixed types. Specify dtype option on import or set low_memory=False.\n",
      "  risk_df = pd.read_csv('data/clarity_underwriting_variables.csv')\n"
     ]
    }
   ],
   "source": [
    "## Load Data\n",
    "\n",
    "loan_df = pd.read_csv('data/loan_shortened.csv')\n",
    "payment_df = pd.read_csv('data/payment_shortened.csv')\n",
    "risk_df = pd.read_csv('data/clarity_underwriting_variables.csv')"
   ]
  },
  {
   "cell_type": "code",
   "execution_count": 320,
   "metadata": {},
   "outputs": [
    {
     "name": "stdout",
     "output_type": "stream",
     "text": [
      "<class 'pandas.core.frame.DataFrame'>\n",
      "RangeIndex: 577682 entries, 0 to 577681\n",
      "Data columns (total 19 columns):\n",
      " #   Column                            Non-Null Count   Dtype  \n",
      "---  ------                            --------------   -----  \n",
      " 0   loanId                            577426 non-null  object \n",
      " 1   anon_ssn                          577682 non-null  object \n",
      " 2   payFrequency                      576409 non-null  object \n",
      " 3   apr                               573760 non-null  float64\n",
      " 4   applicationDate                   577682 non-null  object \n",
      " 5   originated                        577682 non-null  bool   \n",
      " 6   originatedDate                    46044 non-null   object \n",
      " 7   nPaidOff                          577658 non-null  float64\n",
      " 8   approved                          577682 non-null  bool   \n",
      " 9   isFunded                          577682 non-null  int64  \n",
      " 10  loanStatus                        577291 non-null  object \n",
      " 11  loanAmount                        575432 non-null  float64\n",
      " 12  originallyScheduledPaymentAmount  577682 non-null  float64\n",
      " 13  state                             577550 non-null  object \n",
      " 14  leadType                          577682 non-null  object \n",
      " 15  leadCost                          577682 non-null  int64  \n",
      " 16  fpStatus                          51723 non-null   object \n",
      " 17  clarityFraudId                    357693 non-null  object \n",
      " 18  hasCF                             577682 non-null  int64  \n",
      "dtypes: bool(2), float64(4), int64(3), object(10)\n",
      "memory usage: 76.0+ MB\n"
     ]
    }
   ],
   "source": [
    "loan_df.info()"
   ]
  },
  {
   "attachments": {},
   "cell_type": "markdown",
   "metadata": {},
   "source": [
    "- Since the goal of the model is to investigate delinquency, we need to filter the dataframe based on loans that are funded, as unfunded loans cannot be delinquent."
   ]
  },
  {
   "cell_type": "code",
   "execution_count": 321,
   "metadata": {},
   "outputs": [
    {
     "data": {
      "text/plain": [
       "Paid Off Loan                  11427\n",
       "External Collection            11334\n",
       "New Loan                        8112\n",
       "Internal Collection             5564\n",
       "Returned Item                   1182\n",
       "Settlement Paid Off              708\n",
       "Settled Bankruptcy               325\n",
       "Pending Paid Off                 169\n",
       "Charged Off Paid Off             159\n",
       "Charged Off                        1\n",
       "Settlement Pending Paid Off        1\n",
       "Name: loanStatus, dtype: int64"
      ]
     },
     "execution_count": 321,
     "metadata": {},
     "output_type": "execute_result"
    }
   ],
   "source": [
    "funded = loan_df[loan_df['isFunded'] == 1]\n",
    "funded['loanStatus'].value_counts()"
   ]
  },
  {
   "cell_type": "code",
   "execution_count": 322,
   "metadata": {},
   "outputs": [
    {
     "data": {
      "text/plain": [
       "Withdrawn Application        450984\n",
       "Rejected                      85070\n",
       "CSR Voided New Loan            1026\n",
       "Credit Return Void              704\n",
       "Customer Voided New Loan        504\n",
       "Pending Application Fee           5\n",
       "Pending Rescind                   4\n",
       "Pending Application               4\n",
       "Internal Collection               3\n",
       "Voided New Loan                   2\n",
       "Charged Off Paid Off              1\n",
       "Customver Voided New Loan         1\n",
       "Settled Bankruptcy                1\n",
       "Name: loanStatus, dtype: int64"
      ]
     },
     "execution_count": 322,
     "metadata": {},
     "output_type": "execute_result"
    }
   ],
   "source": [
    "unfunded = loan_df[loan_df['isFunded'] == 0]\n",
    "unfunded['loanStatus'].value_counts()"
   ]
  },
  {
   "attachments": {},
   "cell_type": "markdown",
   "metadata": {},
   "source": [
    "It is important to have an appropriate definition of \"delinquency\" as the model and interpretation of the data depends on it. \n",
    "We are defining delinquency based on the loan status. Delinquent loan statuses include:\n",
    "- 'Settled Bankruptcy', 'Charged Off','Settlement Paid off' because the full loan is not repaid\n",
    "- 'External Collection','Internal Collection','Charged Off Paid Off, 'Returned Item' because the loan was not paid on time\n",
    "\n",
    "These columns will have a value of 1 in the Delinquent column. For a value of 0, the loan has to be fully paid and on time, so the loan status that correspond to this is \"Paid Off Loan\". It is important to note here that it is unclear whether or not loans with the \"Paid Off Loan\" could have been delinquent in the past, as these loans should also be included in the definition of \"delinquent loans\". This is currently outside the scope of the project, and will be cited as further things to investigate.\n",
    "\n",
    "Furthermore, we will also be defining the term \"Defaulted\". A defaulted loan includes 'Settled Bankruptcy' and 'Charged Off' because the full loan is not repaid\n"
   ]
  },
  {
   "cell_type": "code",
   "execution_count": 323,
   "metadata": {},
   "outputs": [
    {
     "name": "stderr",
     "output_type": "stream",
     "text": [
      "C:\\Users\\Zysoh\\AppData\\Local\\Temp\\ipykernel_26252\\2586528736.py:4: SettingWithCopyWarning: \n",
      "A value is trying to be set on a copy of a slice from a DataFrame.\n",
      "Try using .loc[row_indexer,col_indexer] = value instead\n",
      "\n",
      "See the caveats in the documentation: https://pandas.pydata.org/pandas-docs/stable/user_guide/indexing.html#returning-a-view-versus-a-copy\n",
      "  funded['Delinquent'] = funded['loanStatus'].apply(lambda x: 1 if x in delinquent_cols else (0 if x in paid_cols else np.nan))\n",
      "C:\\Users\\Zysoh\\AppData\\Local\\Temp\\ipykernel_26252\\2586528736.py:5: SettingWithCopyWarning: \n",
      "A value is trying to be set on a copy of a slice from a DataFrame.\n",
      "Try using .loc[row_indexer,col_indexer] = value instead\n",
      "\n",
      "See the caveats in the documentation: https://pandas.pydata.org/pandas-docs/stable/user_guide/indexing.html#returning-a-view-versus-a-copy\n",
      "  funded['Defaulted'] = funded['loanStatus'].apply(lambda x: 1 if x in defaulted_cols else (0 if x in paid_cols else np.nan))\n"
     ]
    }
   ],
   "source": [
    "delinquent_cols = ['Settled Bankruptcy', 'External Collection','Internal Collection','Charged Off Paid Off','Charged Off','Returned Item']\n",
    "defaulted_cols = ['Settled Bankruptcy','Charged Off']\n",
    "paid_cols = ['Paid Off Loan']\n",
    "funded['Delinquent'] = funded['loanStatus'].apply(lambda x: 1 if x in delinquent_cols else (0 if x in paid_cols else np.nan))\n",
    "funded['Defaulted'] = funded['loanStatus'].apply(lambda x: 1 if x in defaulted_cols else (0 if x in paid_cols else np.nan))\n",
    "funded = funded.drop(columns=['isFunded', 'originated','approved'])"
   ]
  },
  {
   "cell_type": "code",
   "execution_count": 324,
   "metadata": {},
   "outputs": [
    {
     "data": {
      "image/png": "[encoded data removed]",
      "text/plain": [
       "<Figure size 720x360 with 2 Axes>"
      ]
     },
     "metadata": {},
     "output_type": "display_data"
    }
   ],
   "source": [
    "delinquent_counts = funded['Delinquent'].value_counts()\n",
    "defaulted_counts = funded['Defaulted'].value_counts()\n",
    "\n",
    "# Create a figure with two subplots\n",
    "fig, axes = plt.subplots(1, 2, figsize=(10, 5))\n",
    "\n",
    "# Plot the 'Delinquent' pie chart in the first subplot\n",
    "axes[0].pie(delinquent_counts, labels=delinquent_counts.index, autopct='%1.1f%%')\n",
    "axes[0].set_title(\"Delinquent Distribution\")\n",
    "\n",
    "# Plot the 'Defaulted' pie chart in the second subplot\n",
    "axes[1].pie(defaulted_counts, labels=defaulted_counts.index, autopct='%1.1f%%')\n",
    "axes[1].set_title(\"Defaulted Distribution\")\n",
    "plt.show()\n",
    "funded = funded.drop('Defaulted',axis=1)"
   ]
  },
  {
   "attachments": {},
   "cell_type": "markdown",
   "metadata": {},
   "source": [
    "As we can see with this definition of Deliquency, the classes are relatively balanced, which is good as it prevents bias towards the majority class. \n",
    "The defaulted distribution on the other hand is very imbalanced.\n"
   ]
  },
  {
   "attachments": {},
   "cell_type": "markdown",
   "metadata": {},
   "source": [
    "### Preliminary EDA\n",
    "\n",
    "#### Numerical Features"
   ]
  },
  {
   "cell_type": "code",
   "execution_count": 325,
   "metadata": {},
   "outputs": [
    {
     "data": {
      "text/plain": [
       "<AxesSubplot:xlabel='apr', ylabel='count'>"
      ]
     },
     "execution_count": 325,
     "metadata": {},
     "output_type": "execute_result"
    },
    {
     "data": {
      "image/png": "[encoded data removed]",
      "text/plain": [
       "<Figure size 1440x576 with 1 Axes>"
      ]
     },
     "metadata": {
      "needs_background": "light"
     },
     "output_type": "display_data"
    }
   ],
   "source": [
    "plt.figure(figsize=(20,8))\n",
    "apr_bands = pd.cut(funded['apr'], bins=10)\n",
    "sns.countplot(data=funded, x=apr_bands, hue='Delinquent')"
   ]
  },
  {
   "attachments": {},
   "cell_type": "markdown",
   "metadata": {},
   "source": [
    "The plot above shows at the high apr values, deliquency is much more likely\n",
    "- Action: we can add apr into the features"
   ]
  },
  {
   "attachments": {},
   "cell_type": "markdown",
   "metadata": {},
   "source": [
    "\n",
    "Next up, we can merge the payment data to examine if different loan statuses have different payment behaviours"
   ]
  },
  {
   "cell_type": "code",
   "execution_count": 326,
   "metadata": {},
   "outputs": [
    {
     "data": {
      "image/png": "[encoded data removed]",
      "text/plain": [
       "<Figure size 1440x432 with 1 Axes>"
      ]
     },
     "metadata": {
      "needs_background": "light"
     },
     "output_type": "display_data"
    }
   ],
   "source": [
    "merged = loan_df.merge(payment_df, how = 'left', left_on = 'loanId', right_on = 'loanId')\n",
    "dict1 = {\n",
    "    'Paid Off Loan':merged.loc[merged['loanStatus']=='Paid Off Loan','paymentStatus'].value_counts(),\n",
    "    'External Collection':merged.loc[merged['loanStatus']=='External Collection','paymentStatus'].value_counts(),\n",
    "    'Internal Collection':merged.loc[merged['loanStatus']=='Internal Collection','paymentStatus'].value_counts(),\n",
    "    'Returned Item':merged.loc[merged['loanStatus']=='Returned Item','paymentStatus'].value_counts(),\n",
    "    'Settlement Paid Off':merged.loc[merged['loanStatus']=='Settlement Paid Off','paymentStatus'].value_counts(),\n",
    "    'Settled Bankruptcy':merged.loc[merged['loanStatus']=='Settled Bankruptcy','paymentStatus'].value_counts()\n",
    "}\n",
    "df = pd.DataFrame(dict1).fillna(0)\n",
    "# Remove the 3rd, 7th, and 8th rows\n",
    "rows_to_remove = [2, 6, 7]  # Indices start from 0\n",
    "df = df.reset_index().drop(rows_to_remove).set_index('index')\n",
    "df = df.apply(lambda x: (x - x.min()) / (x.max() - x.min()),axis=1)\n",
    "\n",
    "ax = df.plot.bar(figsize=(20, 6))\n",
    "plt.show()\n"
   ]
  },
  {
   "attachments": {},
   "cell_type": "markdown",
   "metadata": {},
   "source": [
    "Observations\n",
    "- as expected, the paid off loan has the highest number of checked payments by a considerable margin\n",
    "- its interesting to see as many skipped payments for paid off loan and external collection\n",
    "- its interesting to see that the settled bankruptcy doesn't have rejected payments\n",
    "- there is a high amount of skipped and pending payments for the paid off loan bar, implying that those payment statuses are not a good predictor of late/imcomplete loan repayments"
   ]
  },
  {
   "cell_type": "code",
   "execution_count": 327,
   "metadata": {},
   "outputs": [
    {
     "data": {
      "text/plain": [
       "R01       0.720634\n",
       "R02       0.091271\n",
       "R08       0.075145\n",
       "R16       0.036050\n",
       "R10       0.020426\n",
       "MISSED    0.017380\n",
       "R03       0.010141\n",
       "RXS       0.007382\n",
       "R07       0.005447\n",
       "R09       0.004730\n",
       "R20       0.002831\n",
       "RAF       0.002078\n",
       "C01       0.001756\n",
       "R04       0.001218\n",
       "R99       0.001003\n",
       "C05       0.000609\n",
       "C03       0.000394\n",
       "RWC       0.000251\n",
       "RUP       0.000215\n",
       "C02       0.000215\n",
       "R06       0.000215\n",
       "RBW       0.000143\n",
       "RFG       0.000108\n",
       "R15       0.000108\n",
       "R29       0.000108\n",
       "R13       0.000072\n",
       "R19       0.000036\n",
       "RIR       0.000036\n",
       "Name: paymentReturnCode, dtype: float64"
      ]
     },
     "execution_count": 327,
     "metadata": {},
     "output_type": "execute_result"
    }
   ],
   "source": [
    "merged['Delinquent'] = merged['loanStatus'].apply(lambda x: 1 if x in delinquent_cols else (0 if x in paid_cols else np.nan))\n",
    "merged.loc[merged['Delinquent']==1,'paymentReturnCode'].value_counts(normalize=True)"
   ]
  },
  {
   "cell_type": "code",
   "execution_count": 328,
   "metadata": {},
   "outputs": [
    {
     "data": {
      "image/png": "[encoded data removed]",
      "text/plain": [
       "<Figure size 1800x432 with 1 Axes>"
      ]
     },
     "metadata": {
      "needs_background": "light"
     },
     "output_type": "display_data"
    }
   ],
   "source": [
    "dict2 = {\n",
    "    'Delinquent':merged.loc[merged['Delinquent']==1,'paymentReturnCode'].value_counts(normalize=True),\n",
    "    'Not Delinquent':merged.loc[merged['Delinquent']==0,'paymentReturnCode'].value_counts(normalize=True),\n",
    "}\n",
    "\n",
    "df = pd.DataFrame(dict2).fillna(0)\n",
    "#df = df.apply(lambda x: (x - x.min()) / (x.max() - x.min()))\n",
    "df = df.apply(lambda row: row / row.sum(), axis=1)\n",
    "ax = df.plot.bar(figsize=(25, 6))\n",
    "\n",
    "plt.show()"
   ]
  },
  {
   "attachments": {},
   "cell_type": "markdown",
   "metadata": {},
   "source": [
    "The figure above shows that:\n",
    "- no paid off loans have the r06, r13, r15, r19, raf, rbw, rfg, rir, rup rwc payment return codes\n",
    "- since, no pattern can be inferred from the definitions of these payment return codes, it is reasonable that these are extenuating circumstances\n",
    "- much more delinquent accounts return the r02 code (9.1% vs 4.3%), which corresponds to account closed\n",
    "\n",
    "#### Action\n",
    "- Since the purpose of the model is to judge loan repayment BEFORE the first payment is made, payment features will be omitted from the model to prevent data leakage."
   ]
  },
  {
   "attachments": {},
   "cell_type": "markdown",
   "metadata": {},
   "source": [
    "#### Categorical Features"
   ]
  },
  {
   "cell_type": "code",
   "execution_count": 329,
   "metadata": {},
   "outputs": [
    {
     "name": "stdout",
     "output_type": "stream",
     "text": [
      "0.6189983995732196\n"
     ]
    },
    {
     "data": {
      "image/png": "[encoded data removed]",
      "text/plain": [
       "<Figure size 720x432 with 1 Axes>"
      ]
     },
     "metadata": {
      "needs_background": "light"
     },
     "output_type": "display_data"
    }
   ],
   "source": [
    "categorical_cols = ['payFrequency','state','leadType']\n",
    "# group the data by state and compute the mean of 'delinquent' column for each group\n",
    "mean_scores = funded.groupby('state')['Delinquent'].mean()\n",
    "\n",
    "# count the occurrences of each state\n",
    "state_counts = funded['state'].value_counts()\n",
    "\n",
    "# filter the 'mean_scores' Series based on state_counts\n",
    "mean_scores_filtered = mean_scores[state_counts > 500].reset_index()\n",
    "\n",
    "overall_mean = funded['Delinquent'].mean()\n",
    "print (funded['Delinquent'].mean())\n",
    "mean_scores_filtered\n",
    "\n",
    "# calculate delinquent rate by state\n",
    "plt.figure(figsize=(10,6))\n",
    "sns.barplot(x='state', y='Delinquent', data=mean_scores_filtered)\n",
    "plt.axhline(overall_mean, color='red')\n",
    "plt.show()"
   ]
  },
  {
   "attachments": {},
   "cell_type": "markdown",
   "metadata": {},
   "source": [
    "- the state of VA has considerably high deliquency rates\n",
    "- the states of IL, NC, WI have low deliquency rates"
   ]
  },
  {
   "cell_type": "code",
   "execution_count": 330,
   "metadata": {},
   "outputs": [
    {
     "name": "stdout",
     "output_type": "stream",
     "text": [
      "0.6189983995732196\n"
     ]
    },
    {
     "data": {
      "text/plain": [
       "<matplotlib.lines.Line2D at 0x14cf4433760>"
      ]
     },
     "execution_count": 330,
     "metadata": {},
     "output_type": "execute_result"
    },
    {
     "data": {
      "image/png": "[encoded data removed]",
      "text/plain": [
       "<Figure size 720x432 with 1 Axes>"
      ]
     },
     "metadata": {
      "needs_background": "light"
     },
     "output_type": "display_data"
    }
   ],
   "source": [
    "mean_scores = funded.groupby('leadType')['Delinquent'].mean()\n",
    "\n",
    "# count the occurrences of each lead\n",
    "lead_counts = funded['leadType'].value_counts()\n",
    "\n",
    "# filter the 'mean_scores' Series based on lead_counts\n",
    "mean_scores_filtered = mean_scores[lead_counts > 10].reset_index()\n",
    "\n",
    "#funded.groupby('lead')['Delinquent'].mean()\n",
    "overall_mean = funded['Delinquent'].mean()\n",
    "print (funded['Delinquent'].mean())\n",
    "mean_scores_filtered\n",
    "\n",
    "# calculate delinquent rate by lead\n",
    "plt.figure(figsize=(10,6))\n",
    "sns.barplot(x='leadType', y='Delinquent', data=mean_scores_filtered)\n",
    "plt.axhline(overall_mean, color='red')"
   ]
  },
  {
   "attachments": {},
   "cell_type": "markdown",
   "metadata": {},
   "source": [
    "- leadTypes = bvMandatory and lead have high delinquency rates\n",
    "- leadTypes = express have low deliquency rates"
   ]
  },
  {
   "cell_type": "code",
   "execution_count": 331,
   "metadata": {},
   "outputs": [
    {
     "name": "stdout",
     "output_type": "stream",
     "text": [
      "0.6189983995732196\n"
     ]
    },
    {
     "data": {
      "image/png": "[encoded data removed]",
      "text/plain": [
       "<Figure size 720x432 with 1 Axes>"
      ]
     },
     "metadata": {
      "needs_background": "light"
     },
     "output_type": "display_data"
    }
   ],
   "source": [
    "mean_scores = funded.groupby('payFrequency')['Delinquent'].mean()\n",
    "\n",
    "# count the occurrences of each lead\n",
    "lead_counts = funded['payFrequency'].value_counts()\n",
    "\n",
    "# filter the 'mean_scores' Series based on lead_counts\n",
    "mean_scores_filtered = mean_scores[lead_counts > 10].reset_index()\n",
    "\n",
    "#funded.groupby('lead')['Delinquent'].mean()\n",
    "overall_mean = funded['Delinquent'].mean()\n",
    "print (funded['Delinquent'].mean())\n",
    "mean_scores_filtered\n",
    "\n",
    "# calculate delinquent rate by lead\n",
    "plt.figure(figsize=(10,6))\n",
    "sns.barplot(x='payFrequency', y='Delinquent', data=mean_scores_filtered)\n",
    "plt.axhline(overall_mean, color='red')\n",
    "plt.show()"
   ]
  },
  {
   "attachments": {},
   "cell_type": "markdown",
   "metadata": {},
   "source": [
    "- It is interesting to note that for irregular payment frequencies, the chances of being delinquent is very low"
   ]
  },
  {
   "attachments": {},
   "cell_type": "markdown",
   "metadata": {},
   "source": [
    "The plots above showed that there was reasonable variation of the target variable in each feature's elements. This means that these categorical variables can be included in the model. This approach can be supplemented by statistical measures in the future to quantify the variations."
   ]
  },
  {
   "attachments": {},
   "cell_type": "markdown",
   "metadata": {},
   "source": [
    "### Feature Engineering\n",
    "\n",
    "#### Creating New Features\n",
    "- The year, month, day of the application and originated date\n",
    "- the count of loans for each person"
   ]
  },
  {
   "cell_type": "code",
   "execution_count": 332,
   "metadata": {},
   "outputs": [
    {
     "data": {
      "text/plain": [
       "<AxesSubplot:xlabel='loan_count', ylabel='Count'>"
      ]
     },
     "execution_count": 332,
     "metadata": {},
     "output_type": "execute_result"
    },
    {
     "data": {
      "image/png": "[encoded data removed]",
      "text/plain": [
       "<Figure size 432x288 with 1 Axes>"
      ]
     },
     "metadata": {
      "needs_background": "light"
     },
     "output_type": "display_data"
    }
   ],
   "source": [
    "## Creating a new feature \n",
    "funded['applicationDate'] = pd.to_datetime(funded['applicationDate'])\n",
    "funded['applicationDateYear'] = funded['applicationDate'].dt.year\n",
    "funded['applicationDateMonth'] = funded['applicationDate'].dt.month\n",
    "funded['applicationDateDay'] = funded['applicationDate'].dt.day\n",
    "\n",
    "funded['originatedDate'] = pd.to_datetime(funded['originatedDate'])\n",
    "funded['originatedDateYear'] = funded['originatedDate'].dt.year\n",
    "funded['originatedDateMonth'] = funded['originatedDate'].dt.month\n",
    "funded['originatedDateDay'] = funded['originatedDate'].dt.day\n",
    "\n",
    "# group the DataFrame by loanId and count the number of loanids for each person\n",
    "loan_count = funded.groupby('anon_ssn')['loanId'].transform('count')\n",
    "funded['loan_count'] = loan_count\n",
    "\n",
    "# create a histogram with each bar representing a single integer value\n",
    "sns.histplot(data=funded, x='loan_count', discrete=True, binwidth=1)\n",
    "\n"
   ]
  },
  {
   "cell_type": "code",
   "execution_count": 333,
   "metadata": {},
   "outputs": [
    {
     "data": {
      "text/plain": [
       "<AxesSubplot:xlabel='loan_count', ylabel='count'>"
      ]
     },
     "execution_count": 333,
     "metadata": {},
     "output_type": "execute_result"
    },
    {
     "data": {
      "image/png": "[encoded data removed]",
      "text/plain": [
       "<Figure size 1440x576 with 1 Axes>"
      ]
     },
     "metadata": {
      "needs_background": "light"
     },
     "output_type": "display_data"
    }
   ],
   "source": [
    "plt.figure(figsize=(20,8))\n",
    "\n",
    "# Create a countplot using seaborn\n",
    "sns.countplot(data=funded, x=funded['loan_count'], hue='Delinquent')"
   ]
  },
  {
   "attachments": {},
   "cell_type": "markdown",
   "metadata": {},
   "source": [
    "As loan count increases, the ratio of delinquent to not delinquent loans decreases\n",
    "- Action: we can add loan_count to the features"
   ]
  },
  {
   "attachments": {},
   "cell_type": "markdown",
   "metadata": {},
   "source": [
    "#### One-Hot Encoding\n",
    "\n",
    "- One Hot encoding is used because there is no ordinal relationship between the categorical variables"
   ]
  },
  {
   "cell_type": "code",
   "execution_count": 334,
   "metadata": {},
   "outputs": [],
   "source": [
    "## One-Hot Encoding\n",
    "funded = pd.get_dummies(funded, columns = categorical_cols)"
   ]
  },
  {
   "cell_type": "code",
   "execution_count": 335,
   "metadata": {},
   "outputs": [
    {
     "name": "stderr",
     "output_type": "stream",
     "text": [
      "C:\\Users\\Zysoh\\AppData\\Local\\Temp\\ipykernel_26252\\3989402806.py:1: DtypeWarning: Columns (9,11,12,13,14,15,16,17,18,19,20,21,22,23,25,26,27,28,29,31,32,33,36,37) have mixed types. Specify dtype option on import or set low_memory=False.\n",
      "  risk_df = pd.read_csv('data/clarity_underwriting_variables.csv')\n"
     ]
    }
   ],
   "source": [
    "risk_df = pd.read_csv('data/clarity_underwriting_variables.csv')\n",
    "def rename_long_columns(col):\n",
    "    if len(col) > 15:\n",
    "        return col.split('.')[-1]\n",
    "    else:\n",
    "        return col\n",
    "risk_df.columns = risk_df.columns.map(lambda x: rename_long_columns(x))\n",
    "\n",
    "null_counts = risk_df.isnull().sum()\n",
    "\n",
    "# create a list of columns with less than or equal to 500 null values\n",
    "keep_cols = null_counts[null_counts <= 500].index.tolist()\n",
    "\n",
    "# select only the columns with less than or equal to 500 null values\n",
    "risk_df = risk_df[keep_cols]\n",
    "risk_df = risk_df.fillna(method = 'bfill')\n",
    "\n",
    "# create an instance of LabelEncoder\n",
    "le = LabelEncoder()\n",
    "\n",
    "\n",
    "object_cols = risk_df.select_dtypes(include=['object']).columns.tolist()\n",
    "#print(object_cols)\n",
    "object_cols.remove('underwritingid')\n",
    "# select columns of type 'object' (i.e. strings)\n",
    "\n",
    "\n",
    "# apply LabelEncoder to each object column in the dataframe\n",
    "for col in object_cols:\n",
    "    risk_df[col+'_encoded'] = le.fit_transform(risk_df[col])\n",
    "\n",
    "\n",
    "# drop the original object columns\n",
    "risk_df = risk_df.drop(object_cols, axis=1)\n"
   ]
  },
  {
   "attachments": {},
   "cell_type": "markdown",
   "metadata": {},
   "source": [
    "- Label encoder was used here as there were too many categorical features in the underwriting dataset. Since the clearfraudscore already captures a lot of the variables here, a label encoder feature was deemed sufficient.\n",
    "- the features with more than 500 null values were omitted\n",
    "- columns were renamed so that they were more readible"
   ]
  },
  {
   "cell_type": "code",
   "execution_count": 336,
   "metadata": {},
   "outputs": [],
   "source": [
    "\n",
    "new_df = loan_df.merge(risk_df,how = 'left',left_on = 'clarityFraudId',right_on = 'underwritingid')\n",
    "funded_risk = funded.merge(risk_df,how = 'left',left_on = 'clarityFraudId',right_on = 'underwritingid') "
   ]
  },
  {
   "cell_type": "code",
   "execution_count": 337,
   "metadata": {},
   "outputs": [
    {
     "data": {
      "text/plain": [
       "['loanId',\n",
       " 'anon_ssn',\n",
       " 'apr',\n",
       " 'applicationDate',\n",
       " 'originatedDate',\n",
       " 'nPaidOff',\n",
       " 'loanStatus',\n",
       " 'loanAmount',\n",
       " 'originallyScheduledPaymentAmount',\n",
       " 'leadCost',\n",
       " 'fpStatus',\n",
       " 'clarityFraudId',\n",
       " 'hasCF',\n",
       " 'Delinquent',\n",
       " 'applicationDateYear',\n",
       " 'applicationDateMonth',\n",
       " 'applicationDateDay',\n",
       " 'originatedDateYear',\n",
       " 'originatedDateMonth',\n",
       " 'originatedDateDay',\n",
       " 'loan_count',\n",
       " 'payFrequency_B',\n",
       " 'payFrequency_I',\n",
       " 'payFrequency_M',\n",
       " 'payFrequency_S',\n",
       " 'payFrequency_W',\n",
       " 'state_AK',\n",
       " 'state_AL',\n",
       " 'state_AZ',\n",
       " 'state_CA',\n",
       " 'state_CO',\n",
       " 'state_CT',\n",
       " 'state_DE',\n",
       " 'state_FL',\n",
       " 'state_GA',\n",
       " 'state_HI',\n",
       " 'state_IA',\n",
       " 'state_ID',\n",
       " 'state_IL',\n",
       " 'state_IN',\n",
       " 'state_KS',\n",
       " 'state_KY',\n",
       " 'state_LA',\n",
       " 'state_MD',\n",
       " 'state_MI',\n",
       " 'state_MN',\n",
       " 'state_MO',\n",
       " 'state_MS',\n",
       " 'state_NC',\n",
       " 'state_ND',\n",
       " 'state_NE',\n",
       " 'state_NJ',\n",
       " 'state_NM',\n",
       " 'state_NV',\n",
       " 'state_OH',\n",
       " 'state_OK',\n",
       " 'state_PA',\n",
       " 'state_RI',\n",
       " 'state_SC',\n",
       " 'state_SD',\n",
       " 'state_TN',\n",
       " 'state_TX',\n",
       " 'state_UT',\n",
       " 'state_VA',\n",
       " 'state_WA',\n",
       " 'state_WI',\n",
       " 'state_WY',\n",
       " 'leadType_bvMandatory',\n",
       " 'leadType_california',\n",
       " 'leadType_express',\n",
       " 'leadType_instant-offer',\n",
       " 'leadType_lead',\n",
       " 'leadType_lionpay',\n",
       " 'leadType_organic',\n",
       " 'leadType_prescreen',\n",
       " 'leadType_rc_returning',\n",
       " 'leadType_repeat',\n",
       " 'thirtydaysago',\n",
       " 'twentyfourhoursago',\n",
       " 'oneminuteago',\n",
       " 'onehourago',\n",
       " 'ninetydaysago',\n",
       " 'sevendaysago',\n",
       " 'tenminutesago',\n",
       " 'fifteendaysago',\n",
       " 'threesixtyfivedaysago',\n",
       " 'inquiryonfilecurrentaddressconflict',\n",
       " 'totalnumberoffraudindicators',\n",
       " 'telephonenumberinconsistentwithaddress',\n",
       " 'inquiryageyoungerthanssnissuedate',\n",
       " 'onfileaddresscautious',\n",
       " 'inquiryaddressnonresidential',\n",
       " 'onfileaddresshighrisk',\n",
       " 'ssnreportedmorefrequentlyforanother',\n",
       " 'currentaddressreportedbytradeopenlt90days',\n",
       " 'inputssninvalid',\n",
       " 'inputssnissuedatecannotbeverified',\n",
       " 'inquiryaddresscautious',\n",
       " 'morethan3inquiriesinthelast30days',\n",
       " 'onfileaddressnonresidential',\n",
       " 'creditestablishedpriortossnissuedate',\n",
       " 'inputssnrecordedasdeceased',\n",
       " 'inquiryaddresshighrisk',\n",
       " 'inquirycurrentaddressnotonfile',\n",
       " 'bestonfilessnissuedatecannotbeverified',\n",
       " 'highprobabilityssnbelongstoanother',\n",
       " 'maxnumberofssnswithanybankaccount',\n",
       " 'bestonfilessnrecordedasdeceased',\n",
       " 'currentaddressreportedbynewtradeonly',\n",
       " 'creditestablishedbeforeage18',\n",
       " 'overallmatchreasoncode',\n",
       " 'clearfraudscore',\n",
       " 'underwritingid',\n",
       " 'ssnnamematch_encoded',\n",
       " 'nameaddressmatch_encoded',\n",
       " 'phonematchresult_encoded',\n",
       " 'overallmatchresult_encoded',\n",
       " 'ssndobmatch_encoded']"
      ]
     },
     "execution_count": 337,
     "metadata": {},
     "output_type": "execute_result"
    }
   ],
   "source": [
    "funded_risk.columns.tolist()"
   ]
  },
  {
   "cell_type": "code",
   "execution_count": 338,
   "metadata": {},
   "outputs": [
    {
     "data": {
      "text/plain": [
       "Delinquent               1.000000\n",
       "loan_count               0.412377\n",
       "nPaidOff                 0.208254\n",
       "clearfraudscore          0.207189\n",
       "leadType_organic         0.180727\n",
       "leadType_bvMandatory     0.138452\n",
       "apr                      0.134204\n",
       "state_IL                 0.119148\n",
       "applicationDateYear      0.114835\n",
       "originatedDateYear       0.114260\n",
       "leadType_rc_returning    0.101415\n",
       "hasCF                    0.082481\n",
       "threesixtyfivedaysago    0.075712\n",
       "ninetydaysago            0.075432\n",
       "payFrequency_I           0.075324\n",
       "state_WI                 0.075196\n",
       "state_VA                 0.074809\n",
       "leadType_lead            0.064096\n",
       "state_TX                 0.063029\n",
       "thirtydaysago            0.055258\n",
       "Name: Delinquent, dtype: float64"
      ]
     },
     "execution_count": 338,
     "metadata": {},
     "output_type": "execute_result"
    }
   ],
   "source": [
    "corrmat = funded_risk.corr()\n",
    "corrmat['Delinquent'].abs().sort_values(ascending=False).head(20)"
   ]
  },
  {
   "attachments": {},
   "cell_type": "markdown",
   "metadata": {},
   "source": [
    "- The correlation between the features and the target is sorted above to highlight the top features to look out for. A heatmap wasnt used here as there were too many features, and for this short project, I wanted a concise way of seeing the correlation magnitudes\n",
    "There should be reasonable agreement between the features shown here and the features from feature importances (model). If they are different, that means that there are a lot of non-linearities in the use case."
   ]
  },
  {
   "attachments": {},
   "cell_type": "markdown",
   "metadata": {},
   "source": [
    "#### Model Training\n",
    "\n",
    "For this use case, we will be using a Random Forest Classifier and a Gradient Boosting Classifier\n",
    "\n",
    "Random Forest Classifier\n",
    "- Robust to overfitting \n",
    "- Can handle high dimensional data\n",
    "<br>\n",
    "Gradient Boosting Classifier\n",
    "- Higher predictive performance than Random Forest\n",
    "- Effective at reducing bias\n",
    "\n",
    "Both are better than simpler models like logistic regression because they can handle non-linearities better"
   ]
  },
  {
   "cell_type": "code",
   "execution_count": 339,
   "metadata": {},
   "outputs": [
    {
     "name": "stdout",
     "output_type": "stream",
     "text": [
      "Dropped 13989 rows\n"
     ]
    }
   ],
   "source": [
    "n_dropped_rows = funded_risk.shape[0] - funded_risk.dropna().shape[0]\n",
    "print(f\"Dropped {n_dropped_rows} rows\")\n",
    "funded_risk = funded_risk.dropna()"
   ]
  },
  {
   "cell_type": "code",
   "execution_count": 340,
   "metadata": {},
   "outputs": [],
   "source": [
    "X = funded_risk\n",
    "X = X.drop(columns = ['loanId', 'anon_ssn', 'applicationDate', 'originatedDate', 'loanStatus','fpStatus', 'clarityFraudId', 'underwritingid','Delinquent'], axis = 1)\n",
    "Y = funded_risk['Delinquent']\n",
    "X_train, X_test, y_train, y_test = train_test_split(X,Y,random_state=42)"
   ]
  },
  {
   "cell_type": "code",
   "execution_count": 341,
   "metadata": {},
   "outputs": [
    {
     "name": "stdout",
     "output_type": "stream",
     "text": [
      "The accuracy of the Random Forest Model is 0.7817250760121619\n",
      "The accuracy of the Gradient Boosting Model is 0.7903664586333813\n"
     ]
    }
   ],
   "source": [
    "rf_model = RandomForestClassifier(n_estimators=200)\n",
    "rf_model.fit(X_train, y_train)\n",
    "rf_accuracy = rf_model.score(X_test, y_test)\n",
    "print ('The accuracy of the Random Forest Model is {}'.format(rf_accuracy))\n",
    "\n",
    "gb_model = GradientBoostingClassifier(n_estimators=200)\n",
    "gb_model.fit(X_train, y_train)\n",
    "gb_accuracy = gb_model.score(X_test, y_test)\n",
    "print ('The accuracy of the Gradient Boosting Model is {}'.format(gb_accuracy))"
   ]
  },
  {
   "cell_type": "code",
   "execution_count": 342,
   "metadata": {},
   "outputs": [
    {
     "data": {
      "text/plain": [
       "<AxesSubplot:>"
      ]
     },
     "execution_count": 342,
     "metadata": {},
     "output_type": "execute_result"
    },
    {
     "data": {
      "image/png": "[encoded data removed]",
      "text/plain": [
       "<Figure size 720x576 with 1 Axes>"
      ]
     },
     "metadata": {
      "needs_background": "light"
     },
     "output_type": "display_data"
    }
   ],
   "source": [
    "importances = rf_model.feature_importances_\n",
    "\n",
    "\n",
    "# Sort the features by importance score in descending order\n",
    "sorted_indices = np.argsort(importances)[::-1][:20]\n",
    "sorted_features = X_train.columns[sorted_indices]\n",
    "sorted_importances = importances[sorted_indices]\n",
    "\n",
    "# Create a horizontal bar plot of feature importances using Seaborn\n",
    "fig, ax = plt.subplots(figsize=(10, 8))\n",
    "sns.barplot(x=sorted_importances, y=sorted_features, palette='Blues_r')"
   ]
  },
  {
   "attachments": {},
   "cell_type": "markdown",
   "metadata": {},
   "source": [
    "The plot above shows the most important features for the classifier. \n",
    "- it is interesting that the most notable clearfraud indicator is \"threesixtyfivedaysago\" aka \".underwritingdataclarity.clearfraud.clearfraudinquiry.threesixtyfivedaysago\": Number of unique inquiries for the consumer seen by Clarity in the last 365 days. Lets investigate the relationship below\n"
   ]
  },
  {
   "cell_type": "code",
   "execution_count": 343,
   "metadata": {},
   "outputs": [
    {
     "data": {
      "image/png": "[encoded data removed]",
      "text/plain": [
       "<Figure size 1440x576 with 2 Axes>"
      ]
     },
     "metadata": {
      "needs_background": "light"
     },
     "output_type": "display_data"
    }
   ],
   "source": [
    "# Create a figure with two subplots\n",
    "fig, (ax1, ax2) = plt.subplots(1, 2, figsize=(20, 8))\n",
    "\n",
    "# Box plot - ago vs Delinquent\n",
    "sns.boxplot(x='Delinquent', y='threesixtyfivedaysago', data=funded_risk, ax=ax1)\n",
    "ax1.set_xlabel('Delinquent')\n",
    "ax1.set_ylabel('threesixtyfivedaysago')\n",
    "\n",
    "# Scatter plot - another feature vs Delinquent\n",
    "sns.boxplot(x='Delinquent', y='thirtydaysago', data=funded_risk, ax=ax2)\n",
    "ax2.set_xlabel('Delinquent')\n",
    "ax2.set_ylabel('thirtydaysago')\n",
    "\n",
    "# Adjust the spacing between subplots\n",
    "plt.tight_layout()\n",
    "\n",
    "# Show the plot\n",
    "plt.show()"
   ]
  },
  {
   "attachments": {},
   "cell_type": "markdown",
   "metadata": {},
   "source": [
    "- This box plot shows that on, there are slightly more unique inquiries 365 days ago and 30 days ago respectively for delinquent loans.\n",
    "- 30 days ago has more outliers in the Non-delinquent class"
   ]
  },
  {
   "cell_type": "code",
   "execution_count": 344,
   "metadata": {},
   "outputs": [
    {
     "name": "stdout",
     "output_type": "stream",
     "text": [
      "The AUC for the Random Forest Model is 0.8178130896180363\n",
      "The AUC for the Gradient Boosting Model is 0.8256921439306791\n"
     ]
    }
   ],
   "source": [
    "from sklearn.metrics import roc_auc_score\n",
    "predicted_probabilities = rf_model.predict_proba(X_test)[:, 1]\n",
    "auc = roc_auc_score(y_test, predicted_probabilities)\n",
    "print ('The AUC for the Random Forest Model is {}'.format(auc))\n",
    "\n",
    "predicted_probabilities = gb_model.predict_proba(X_test)[:, 1]\n",
    "auc = roc_auc_score(y_test, predicted_probabilities)\n",
    "print ('The AUC for the Gradient Boosting Model is {}'.format(auc))"
   ]
  },
  {
   "cell_type": "code",
   "execution_count": 345,
   "metadata": {},
   "outputs": [
    {
     "name": "stdout",
     "output_type": "stream",
     "text": [
      "Precision: 0.7839572192513369\n",
      "Recall: 0.9119183876586215\n"
     ]
    }
   ],
   "source": [
    "## precision recall\n",
    "from sklearn.metrics import precision_score, recall_score\n",
    "y_pred = rf_model.predict(X_test)\n",
    "precision = precision_score(y_test, y_pred)\n",
    "recall = recall_score(y_test, y_pred)\n",
    "\n",
    "print(\"Precision:\", precision)\n",
    "print(\"Recall:\", recall)"
   ]
  },
  {
   "cell_type": "code",
   "execution_count": 346,
   "metadata": {},
   "outputs": [
    {
     "data": {
      "image/png": "[encoded data removed]",
      "text/plain": [
       "<Figure size 432x288 with 1 Axes>"
      ]
     },
     "metadata": {
      "needs_background": "light"
     },
     "output_type": "display_data"
    }
   ],
   "source": [
    "from sklearn.metrics import confusion_matrix\n",
    "\n",
    "\n",
    "# Assuming y_test contains the true labels and y_pred contains the predicted labels\n",
    "cm = confusion_matrix(y_test, y_pred)\n",
    "\n",
    "# Create a heatmap for the confusion matrix\n",
    "sns.heatmap(cm, annot=True, cmap=\"Blues\", fmt=\"d\", cbar=False)\n",
    "\n",
    "# Set labels, title, and axis ticks\n",
    "plt.xlabel(\"Predicted\")\n",
    "plt.ylabel(\"True\")\n",
    "plt.title(\"Confusion Matrix\")\n",
    "plt.xticks([0.5, 1.5], labels=[\"Non-Delinquent\", \"Delinquent\"])\n",
    "plt.yticks([0.5, 1.5], labels=[\"Non-Delinquent\", \"Delinquent\"])\n",
    "\n",
    "# Display the plot\n",
    "plt.show()"
   ]
  },
  {
   "attachments": {},
   "cell_type": "markdown",
   "metadata": {},
   "source": [
    "- What we are particularly interested in this confusion matrix are the false negatives. False negatives are more important than false positives in this context because getting a false negative is potentially having a loan defaulted whereas the cost of having a false positive is not funding a loan and thereby missing out on the loan's interest & customer base.\n",
    "- We can balance the false positives and false negatives by adjusting the probablity threshold for a class to be considered Delinquent"
   ]
  },
  {
   "cell_type": "code",
   "execution_count": 347,
   "metadata": {},
   "outputs": [
    {
     "data": {
      "image/png": "[encoded data removed]",
      "text/plain": [
       "<Figure size 432x288 with 1 Axes>"
      ]
     },
     "metadata": {
      "needs_background": "light"
     },
     "output_type": "display_data"
    }
   ],
   "source": [
    "thresholds = [0.5,0.45,0.4,0.35,0.3,0.25,0.2]  # List of precision thresholds to loop through\n",
    "\n",
    "false_negatives = []\n",
    "false_positives = []\n",
    "\n",
    "for threshold in thresholds:\n",
    "    # Get predicted probabilities for the positive class\n",
    "    proba_pos = rf_model.predict_proba(X_test)[:, 1]\n",
    "\n",
    "    # Adjust the predictions based on the threshold\n",
    "    predictions = proba_pos >= threshold\n",
    "\n",
    "    # Get the confusion matrix for the adjusted predictions\n",
    "    cm = confusion_matrix(y_test, predictions)\n",
    "\n",
    "    # Calculate false negatives and false positives\n",
    "    fn = cm[1, 0]\n",
    "    fp = cm[0, 1]\n",
    "\n",
    "    false_negatives.append(fn)\n",
    "    false_positives.append(fp)\n",
    "\n",
    "# Plot the false negatives vs false positives scatter plot\n",
    "\n",
    "plt.scatter(thresholds, false_negatives, label='False Negatives')\n",
    "plt.scatter(thresholds, false_positives, label='False Positives')\n",
    "plt.xlabel('Thresholds')\n",
    "plt.ylabel('Counts')\n",
    "plt.title('False Negatives vs False Positives')\n",
    "plt.legend()\n",
    "plt.show()"
   ]
  },
  {
   "attachments": {},
   "cell_type": "markdown",
   "metadata": {},
   "source": [
    "From the plot above, I'd suggest selecting a decision threshold around 0.3-0.25 because\n",
    "- we want to minimize false negatives as much as possible\n",
    "- the slope of the blue scatter is levelling off in the 0.2-0.30 threshold area, as to only gain diminishing returns if we further decrease the threshold"
   ]
  },
  {
   "attachments": {},
   "cell_type": "markdown",
   "metadata": {},
   "source": [
    "#### Quantifying Risk\n",
    "\n",
    "The risk of giving out loans not only depends on the probability that the loan will be delinquent/defaulted, it also depends on the loan amount ie\n",
    "- a higher loan amount carries more risk for the lender "
   ]
  },
  {
   "cell_type": "code",
   "execution_count": 348,
   "metadata": {},
   "outputs": [],
   "source": [
    "X_test['predicted_probabilities'] = predicted_probabilities\n",
    "X_test['risk_factor'] = X_test['predicted_probabilities'] * X_test['loanAmount']"
   ]
  },
  {
   "attachments": {},
   "cell_type": "markdown",
   "metadata": {},
   "source": [
    "### Conclusion\n",
    "\n",
    "Using exploratory data analysis, feature engineering and machine learning, a random forest and a gradient boosting classifier model have been developed with the objective of managing risk of loan repayments. Features such as the previous loan_count and the clearfraudscore from the underwriting process stood out as the most important features. With the business context in mind - predicting the delinquent class as comprehensively as possible, the decision threshold was adjusted to minimize false negatives. This model can be employed in the approval stage by combining the loan information and underwriting process data. Loans with very high probability of delinquency or risk factor can be automatically rejected whereas loans in the gray area could warant an extra stage of human judgement. As such, the loans that are funded will have a higher chance of being sucessfully repayed, with minimal risk incurred upon the lender.\n",
    "\n",
    "- Time Spent: 24 hours~\n",
    "- Name: Zhen Yang Soh\n",
    "\n",
    "#### Further Improvements\n",
    "Some additional improvements that have not already been mentioned include: \n",
    "- Have a more objective definition of Delinquency (ie have not paid for x amount of months) --> use payment data to create the target variable values\n",
    "- Use One Hot Encoding on all categorical features and use dimensionality reduction techniques to deal with the large amount of features\n",
    "- Use other data like loan applicant's income, debt-to-income ratio, credit score if available\n",
    "- Merge state data with location based info like state's GDP, unemployment rate, cost of living etc.\n",
    "- Test more ML models and test ensemble methods: combine scores from different models\n",
    "- Use cross-validation to access versatility of model\n",
    "- Remove irrelevant features either through feature importances / low correlation values  or through iterative testing \n",
    "- Do missing value imputations based on their relationship with other variables\n",
    "\n"
   ]
  },
  {
   "attachments": {},
   "cell_type": "markdown",
   "metadata": {},
   "source": []
  }
 ],
 "metadata": {
  "kernelspec": {
   "display_name": "Python 3",
   "language": "python",
   "name": "python3"
  },
  "language_info": {
   "codemirror_mode": {
    "name": "ipython",
    "version": 3
   },
   "file_extension": ".py",
   "mimetype": "text/x-python",
   "name": "python",
   "nbconvert_exporter": "python",
   "pygments_lexer": "ipython3",
   "version": "3.10.11"
  },
  "orig_nbformat": 4,
  "vscode": {
   "interpreter": {
    "hash": "5f06126536e5d0edf33757f1b46a64bc9fb9e56f58b4c94cb021fc83b971c34c"
   }
  }
 },
 "nbformat": 4,
 "nbformat_minor": 2
}
